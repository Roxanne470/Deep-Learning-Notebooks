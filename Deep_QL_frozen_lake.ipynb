{
 "cells": [
  {
   "cell_type": "code",
   "execution_count": 1,
   "metadata": {},
   "outputs": [
    {
     "name": "stdout",
     "output_type": "stream",
     "text": [
      "Collecting gym\n",
      "  Downloading gym-0.18.0.tar.gz (1.6 MB)\n",
      "\u001b[K     |████████████████████████████████| 1.6 MB 4.5 MB/s eta 0:00:01\n",
      "\u001b[?25hRequirement already satisfied: scipy in /Users/roxanneli/anaconda3/lib/python3.7/site-packages (from gym) (1.5.3)\n",
      "Requirement already satisfied: numpy>=1.10.4 in /Users/roxanneli/anaconda3/lib/python3.7/site-packages (from gym) (1.19.3)\n",
      "Collecting pyglet<=1.5.0,>=1.4.0\n",
      "  Downloading pyglet-1.5.0-py2.py3-none-any.whl (1.0 MB)\n",
      "\u001b[K     |████████████████████████████████| 1.0 MB 6.4 MB/s eta 0:00:01\n",
      "\u001b[?25hRequirement already satisfied: Pillow<=7.2.0 in /Users/roxanneli/anaconda3/lib/python3.7/site-packages (from gym) (5.3.0)\n",
      "Collecting cloudpickle<1.7.0,>=1.2.0\n",
      "  Downloading cloudpickle-1.6.0-py3-none-any.whl (23 kB)\n",
      "Requirement already satisfied: future in /Users/roxanneli/anaconda3/lib/python3.7/site-packages (from pyglet<=1.5.0,>=1.4.0->gym) (0.17.1)\n",
      "Building wheels for collected packages: gym\n",
      "  Building wheel for gym (setup.py) ... \u001b[?25ldone\n",
      "\u001b[?25h  Created wheel for gym: filename=gym-0.18.0-py3-none-any.whl size=1656449 sha256=d64b7746740c3c9f8193b038c053b5b3bebd0ccd75bdda990583718c02279ace\n",
      "  Stored in directory: /Users/roxanneli/Library/Caches/pip/wheels/99/f7/e3/d6f0f120ac047c1e5de2ae34930e7bf6e8de1c7a4d5fa68555\n",
      "Successfully built gym\n",
      "Installing collected packages: pyglet, cloudpickle, gym\n",
      "  Attempting uninstall: cloudpickle\n",
      "    Found existing installation: cloudpickle 0.6.1\n",
      "    Uninstalling cloudpickle-0.6.1:\n",
      "      Successfully uninstalled cloudpickle-0.6.1\n",
      "\u001b[31mERROR: pip's dependency resolver does not currently take into account all the packages that are installed. This behaviour is the source of the following dependency conflicts.\n",
      "spyder 3.3.2 requires pyqt5<5.10; python_version >= \"3\", but you have pyqt5 5.15.2 which is incompatible.\u001b[0m\n",
      "Successfully installed cloudpickle-1.6.0 gym-0.18.0 pyglet-1.5.0\n"
     ]
    }
   ],
   "source": [
    "!pip install gym\n",
    "import numpy as np\n",
    "import gym\n",
    "import random\n",
    "import time\n",
    "from IPython.display import clear_output"
   ]
  },
  {
   "cell_type": "code",
   "execution_count": 2,
   "metadata": {},
   "outputs": [],
   "source": [
    "env = gym.make(\"FrozenLake-v0\")"
   ]
  },
  {
   "cell_type": "code",
   "execution_count": 4,
   "metadata": {},
   "outputs": [
    {
     "name": "stdout",
     "output_type": "stream",
     "text": [
      "[[0. 0. 0. 0.]\n",
      " [0. 0. 0. 0.]\n",
      " [0. 0. 0. 0.]\n",
      " [0. 0. 0. 0.]\n",
      " [0. 0. 0. 0.]\n",
      " [0. 0. 0. 0.]\n",
      " [0. 0. 0. 0.]\n",
      " [0. 0. 0. 0.]\n",
      " [0. 0. 0. 0.]\n",
      " [0. 0. 0. 0.]\n",
      " [0. 0. 0. 0.]\n",
      " [0. 0. 0. 0.]\n",
      " [0. 0. 0. 0.]\n",
      " [0. 0. 0. 0.]\n",
      " [0. 0. 0. 0.]\n",
      " [0. 0. 0. 0.]]\n"
     ]
    }
   ],
   "source": [
    "action_space_size = env.action_space.n\n",
    "state_space_size = env.observation_space.n\n",
    "\n",
    "q_table = np.zeros((state_space_size, action_space_size))\n",
    "print(q_table)"
   ]
  },
  {
   "cell_type": "code",
   "execution_count": 5,
   "metadata": {},
   "outputs": [],
   "source": [
    "num_episodes = 10000\n",
    "max_steps_per_episode = 100\n",
    "\n",
    "learning_rate = 0.1\n",
    "discount_rate = 0.99\n",
    "\n",
    "exploration_rate = 1\n",
    "max_exploration_rate = 1\n",
    "min_exploration_rate = 0.01\n",
    "exploration_decay_rate = 0.01"
   ]
  },
  {
   "cell_type": "code",
   "execution_count": 10,
   "metadata": {},
   "outputs": [
    {
     "name": "stdout",
     "output_type": "stream",
     "text": [
      "**********Average reward per thousand episodes**********\n",
      "\n",
      "1000 : 0.059\n",
      "2000 : 0.197\n",
      "3000 : 0.412\n",
      "4000 : 0.541\n",
      "5000 : 0.622\n",
      "6000 : 0.641\n",
      "7000 : 0.662\n",
      "8000 : 0.662\n",
      "9000 : 0.676\n",
      "10000 : 0.686\n",
      "\n",
      "\n",
      "**********Q-table**********\n",
      "\n",
      "[[0.49961964 0.49966596 0.49891309 0.49699358]\n",
      " [0.41243756 0.33998198 0.29015742 0.47070699]\n",
      " [0.42318605 0.41879501 0.41221007 0.44560371]\n",
      " [0.22790743 0.30025132 0.26206624 0.43651175]\n",
      " [0.50584533 0.33719026 0.36092228 0.31362979]\n",
      " [0.         0.         0.         0.        ]\n",
      " [0.22844987 0.16491628 0.21031669 0.14447971]\n",
      " [0.         0.         0.         0.        ]\n",
      " [0.36071996 0.4239489  0.49035483 0.51487347]\n",
      " [0.51237019 0.55554776 0.40144704 0.33136155]\n",
      " [0.49911026 0.36164205 0.35193203 0.38500267]\n",
      " [0.         0.         0.         0.        ]\n",
      " [0.         0.         0.         0.        ]\n",
      " [0.4651693  0.54099952 0.66894176 0.51211247]\n",
      " [0.73507607 0.77513247 0.72935421 0.72383627]\n",
      " [0.         0.         0.         0.        ]]\n"
     ]
    }
   ],
   "source": [
    "rewards_all_episodes = []\n",
    "\n",
    "for episode in range(num_episodes):\n",
    "    \n",
    "    state = env.reset()\n",
    "    done = False\n",
    "    rewards_current_episode = 0\n",
    "    \n",
    "    for step in range(max_steps_per_episode):\n",
    "        \n",
    "        #exploration-exploitation trade-off\n",
    "        exploration_rate_threshold = random.uniform(0,1)\n",
    "        if exploration_rate_threshold > exploration_rate:\n",
    "            action = np.argmax(q_table[state,:])\n",
    "        else:\n",
    "            action = env.action_space.sample()\n",
    "        \n",
    "        new_state, reward, done, info = env.step(action)\n",
    "        \n",
    "        #update Q-table for Q(s,a)\n",
    "        q_table[state,action] = (1-learning_rate)*q_table[state,action] + learning_rate*(reward+discount_rate*np.max(q_table[new_state,:]))\n",
    "        state = new_state\n",
    "        rewards_current_episode += reward\n",
    "        \n",
    "        if done==True:\n",
    "            break\n",
    "            \n",
    "    # exploration rate decay\n",
    "    exploration_rate = min_exploration_rate + (max_exploration_rate-min_exploration_rate)*np.exp(-exploration_decay_rate*episode)\n",
    "    \n",
    "    rewards_all_episodes.append(rewards_current_episode)\n",
    "    \n",
    "\n",
    "#calculate and print the average reward per thousand episodes   \n",
    "rewards_per_thousand_episodes = np.split(np.array(rewards_all_episodes), num_episodes/1000)\n",
    "count = 1000\n",
    "print(\"**********Average reward per thousand episodes**********\\n\")\n",
    "for r in rewards_per_thousand_episodes:\n",
    "    print(count,\":\", str(sum(r)/1000))\n",
    "    count += 1000\n",
    "    \n",
    "\n",
    "#print updated Q-table\n",
    "print(\"\\n\\n**********Q-table**********\\n\")\n",
    "print(q_table)"
   ]
  },
  {
   "cell_type": "code",
   "execution_count": null,
   "metadata": {},
   "outputs": [],
   "source": []
  }
 ],
 "metadata": {
  "kernelspec": {
   "display_name": "Python 3",
   "language": "python",
   "name": "python3"
  },
  "language_info": {
   "codemirror_mode": {
    "name": "ipython",
    "version": 3
   },
   "file_extension": ".py",
   "mimetype": "text/x-python",
   "name": "python",
   "nbconvert_exporter": "python",
   "pygments_lexer": "ipython3",
   "version": "3.7.1"
  }
 },
 "nbformat": 4,
 "nbformat_minor": 2
}
