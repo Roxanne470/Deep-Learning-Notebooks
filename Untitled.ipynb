{
 "cells": [
  {
   "cell_type": "code",
   "execution_count": 1,
   "metadata": {},
   "outputs": [],
   "source": [
    "import keras\n",
    "from keras.datasets import cifar10\n",
    "from keras.preprocessing.image import ImageDataGenerator\n",
    "from keras.models import Sequential\n",
    "from keras.layers import Dense, Dropout, Activation, Flatten\n",
    "from keras.layers import Conv2D, MaxPooling2D\n",
    "import matplotlib.pyplot as plt"
   ]
  },
  {
   "cell_type": "code",
   "execution_count": 2,
   "metadata": {
    "scrolled": true
   },
   "outputs": [
    {
     "name": "stdout",
     "output_type": "stream",
     "text": [
      "Downloading data from https://www.cs.toronto.edu/~kriz/cifar-10-python.tar.gz\n",
      "170500096/170498071 [==============================] - 34s 0us/step\n"
     ]
    },
    {
     "data": {
      "text/plain": [
       "((50000, 32, 32, 3), (50000, 1), (10000, 32, 32, 3), (10000, 1))"
      ]
     },
     "execution_count": 2,
     "metadata": {},
     "output_type": "execute_result"
    }
   ],
   "source": [
    "(X_train, y_train), (X_test, y_test) = cifar10.load_data()\n",
    "X_train.shape, y_train.shape, X_test.shape, y_test.shape"
   ]
  },
  {
   "cell_type": "code",
   "execution_count": 3,
   "metadata": {},
   "outputs": [
    {
     "data": {
      "text/plain": [
       "(32, 32, 3)"
      ]
     },
     "execution_count": 3,
     "metadata": {},
     "output_type": "execute_result"
    }
   ],
   "source": [
    "X_train[200].shape"
   ]
  },
  {
   "cell_type": "code",
   "execution_count": 8,
   "metadata": {},
   "outputs": [
    {
     "name": "stdout",
     "output_type": "stream",
     "text": [
      "[6]\n"
     ]
    },
    {
     "data": {
      "text/plain": [
       "<matplotlib.image.AxesImage at 0x7fde6295c630>"
      ]
     },
     "execution_count": 8,
     "metadata": {},
     "output_type": "execute_result"
    },
    {
     "data": {
      "image/png": "[encoded data removed]",
      "text/plain": [
       "<Figure size 432x288 with 1 Axes>"
      ]
     },
     "metadata": {
      "needs_background": "light"
     },
     "output_type": "display_data"
    }
   ],
   "source": [
    "print(y_train[200])\n",
    "#plt.imshow(X_train[200])\n",
    "plt.imshow(X_train[200])"
   ]
  },
  {
   "cell_type": "code",
   "execution_count": 9,
   "metadata": {},
   "outputs": [
    {
     "data": {
      "text/plain": [
       "array([0., 0., 0., 0., 0., 0., 1., 0., 0., 0.], dtype=float32)"
      ]
     },
     "execution_count": 9,
     "metadata": {},
     "output_type": "execute_result"
    }
   ],
   "source": [
    "num_classes = 10\n",
    "\n",
    "y_train = keras.utils.to_categorical(y_train, num_classes)\n",
    "y_test = keras.utils.to_categorical(y_test, num_classes)\n",
    "\n",
    "y_train[200]"
   ]
  },
  {
   "cell_type": "code",
   "execution_count": 10,
   "metadata": {},
   "outputs": [],
   "source": [
    "X_train = X_train.astype('float32')\n",
    "X_test = X_test.astype('float32')\n",
    "X_train /= 255\n",
    "X_test /= 255"
   ]
  },
  {
   "cell_type": "code",
   "execution_count": 14,
   "metadata": {},
   "outputs": [
    {
     "data": {
      "text/plain": [
       "(32, 32, 3)"
      ]
     },
     "execution_count": 14,
     "metadata": {},
     "output_type": "execute_result"
    }
   ],
   "source": [
    "X_train.shape[1:]"
   ]
  },
  {
   "cell_type": "code",
   "execution_count": null,
   "metadata": {},
   "outputs": [],
   "source": [
    "keras.layers.convolutional.Conv2D(filters, kernel_size, \n",
    "                                  strides=(1, 1), padding='valid',\n",
    "                                  data_format=None, \n",
    "                                  dilation_rate=(1, 1), \n",
    "                                  activation=None, use_bias=True, \n",
    "                                  kernel_initializer='glorot_uniform', \n",
    "                                  bias_initializer='zeros', \n",
    "                                  kernel_regularizer=None, \n",
    "                                  bias_regularizer=None, \n",
    "                                  activity_regularizer=None, \n",
    "                                  kernel_constraint=None, \n",
    "                                  bias_constraint=None, **kwargs)"
   ]
  },
  {
   "cell_type": "code",
   "execution_count": 16,
   "metadata": {},
   "outputs": [
    {
     "name": "stdout",
     "output_type": "stream",
     "text": [
      "Model: \"sequential_1\"\n",
      "_________________________________________________________________\n",
      "Layer (type)                 Output Shape              Param #   \n",
      "=================================================================\n",
      "conv2d_2 (Conv2D)            (None, 16, 16, 32)        2432      \n",
      "_________________________________________________________________\n",
      "activation_4 (Activation)    (None, 16, 16, 32)        0         \n",
      "_________________________________________________________________\n",
      "conv2d_3 (Conv2D)            (None, 6, 6, 32)          25632     \n",
      "_________________________________________________________________\n",
      "activation_5 (Activation)    (None, 6, 6, 32)          0         \n",
      "_________________________________________________________________\n",
      "max_pooling2d_1 (MaxPooling2 (None, 3, 3, 32)          0         \n",
      "_________________________________________________________________\n",
      "dropout_2 (Dropout)          (None, 3, 3, 32)          0         \n",
      "_________________________________________________________________\n",
      "flatten_1 (Flatten)          (None, 288)               0         \n",
      "_________________________________________________________________\n",
      "dense_2 (Dense)              (None, 512)               147968    \n",
      "_________________________________________________________________\n",
      "activation_6 (Activation)    (None, 512)               0         \n",
      "_________________________________________________________________\n",
      "dropout_3 (Dropout)          (None, 512)               0         \n",
      "_________________________________________________________________\n",
      "dense_3 (Dense)              (None, 10)                5130      \n",
      "_________________________________________________________________\n",
      "activation_7 (Activation)    (None, 10)                0         \n",
      "=================================================================\n",
      "Total params: 181,162\n",
      "Trainable params: 181,162\n",
      "Non-trainable params: 0\n",
      "_________________________________________________________________\n"
     ]
    }
   ],
   "source": [
    "model_1 = Sequential()\n",
    "\n",
    "model_1.add(Conv2D(32, (5,5),strides=(2,2),padding='same',\n",
    "                   input_shape=X_train.shape[1:]))\n",
    "model_1.add(Activation('relu'))\n",
    "\n",
    "model_1.add(Conv2D(32,(5,5),strides=(2,2)))\n",
    "model_1.add(Activation('relu'))\n",
    "\n",
    "model_1.add(MaxPooling2D(pool_size=(2,2)))\n",
    "model_1.add(Dropout(0.25))\n",
    "\n",
    "model_1.add(Flatten())\n",
    "model_1.add(Dense(512))\n",
    "model_1.add(Activation('relu'))\n",
    "model_1.add(Dropout(0.5))\n",
    "model_1.add(Dense(num_classes))\n",
    "model_1.add(Activation('softmax'))\n",
    "\n",
    "model_1.summary()"
   ]
  },
  {
   "cell_type": "code",
   "execution_count": 18,
   "metadata": {},
   "outputs": [
    {
     "name": "stdout",
     "output_type": "stream",
     "text": [
      "Epoch 1/15\n",
      "1563/1563 [==============================] - 28s 18ms/step - loss: 1.6034 - accuracy: 0.4198 - val_loss: 1.4889 - val_accuracy: 0.4678\n",
      "Epoch 2/15\n",
      "1563/1563 [==============================] - 28s 18ms/step - loss: 1.5769 - accuracy: 0.4297 - val_loss: 1.4800 - val_accuracy: 0.4727\n",
      "Epoch 3/15\n",
      "1563/1563 [==============================] - 35s 22ms/step - loss: 1.5634 - accuracy: 0.4379 - val_loss: 1.4687 - val_accuracy: 0.4753\n",
      "Epoch 4/15\n",
      "1563/1563 [==============================] - 33s 21ms/step - loss: 1.5546 - accuracy: 0.4396 - val_loss: 1.4516 - val_accuracy: 0.4811\n",
      "Epoch 5/15\n",
      "1563/1563 [==============================] - 36s 23ms/step - loss: 1.5440 - accuracy: 0.4402 - val_loss: 1.4614 - val_accuracy: 0.4782\n",
      "Epoch 6/15\n",
      "1563/1563 [==============================] - 35s 23ms/step - loss: 1.5417 - accuracy: 0.4429 - val_loss: 1.4461 - val_accuracy: 0.4792\n",
      "Epoch 7/15\n",
      "1563/1563 [==============================] - 33s 21ms/step - loss: 1.5371 - accuracy: 0.4443 - val_loss: 1.4365 - val_accuracy: 0.4904\n",
      "Epoch 8/15\n",
      "1563/1563 [==============================] - 33s 21ms/step - loss: 1.5329 - accuracy: 0.4427 - val_loss: 1.4386 - val_accuracy: 0.4872\n",
      "Epoch 9/15\n",
      "1563/1563 [==============================] - 30s 19ms/step - loss: 1.5260 - accuracy: 0.4484 - val_loss: 1.4355 - val_accuracy: 0.4935\n",
      "Epoch 10/15\n",
      "1563/1563 [==============================] - 34s 22ms/step - loss: 1.5244 - accuracy: 0.4463 - val_loss: 1.4317 - val_accuracy: 0.4969\n",
      "Epoch 11/15\n",
      "1563/1563 [==============================] - 29s 18ms/step - loss: 1.5205 - accuracy: 0.4532 - val_loss: 1.4372 - val_accuracy: 0.4908\n",
      "Epoch 12/15\n",
      "1563/1563 [==============================] - 31s 20ms/step - loss: 1.5155 - accuracy: 0.4495 - val_loss: 1.4232 - val_accuracy: 0.4974\n",
      "Epoch 13/15\n",
      "1563/1563 [==============================] - 26s 17ms/step - loss: 1.5106 - accuracy: 0.4519 - val_loss: 1.4260 - val_accuracy: 0.4943\n",
      "Epoch 14/15\n",
      "1563/1563 [==============================] - 30s 19ms/step - loss: 1.5075 - accuracy: 0.4554 - val_loss: 1.4231 - val_accuracy: 0.4965\n",
      "Epoch 15/15\n",
      "1563/1563 [==============================] - 34s 22ms/step - loss: 1.5127 - accuracy: 0.4544 - val_loss: 1.4188 - val_accuracy: 0.4942\n"
     ]
    },
    {
     "data": {
      "text/plain": [
       "<tensorflow.python.keras.callbacks.History at 0x7fddad140cc0>"
      ]
     },
     "execution_count": 18,
     "metadata": {},
     "output_type": "execute_result"
    }
   ],
   "source": [
    "batch_size = 32\n",
    "\n",
    "opt = keras.optimizers.Adam(learning_rate=0.0005)\n",
    "\n",
    "model_1.compile(loss='categorical_crossentropy',\n",
    "                optimizer=opt,\n",
    "                metrics=['accuracy'])\n",
    "model_1.fit(X_train, y_train, batch_size=batch_size,\n",
    "            epochs=15,\n",
    "            validation_data=(X_test, y_test),\n",
    "            shuffle=True)"
   ]
  },
  {
   "cell_type": "code",
   "execution_count": null,
   "metadata": {},
   "outputs": [],
   "source": []
  },
  {
   "cell_type": "code",
   "execution_count": 21,
   "metadata": {},
   "outputs": [],
   "source": [
    "model_2 = Sequential()\n",
    "\n",
    "#1. convolutional layer, 32 layers,kernel size = (3,3)\n",
    "model_2.add(Conv2D(32,(3,3), padding='same',input_shape=X_train[1].shape))\n",
    "model_2.add(Activation('relu'))\n",
    "\n",
    "#2. convolutional layer, 32 layers kernel size = (3,3)\n",
    "model_2.add(Conv2D(32, (3,3)))\n",
    "model_2.add(Activation('relu'))\n",
    "\n",
    "#3. maxpooling2D, pool_size = (2,2)\n",
    "model_2.add(MaxPooling2D(pool_size=(2,2)))\n",
    "model_2.add(Dropout(0.25))\n",
    "\n",
    "#4. Convolutional layer, 64 layers, kernel_size = (3,3)\n",
    "model_2.add(Conv2D(64, (3,3), padding='same'))\n",
    "model_2.add(Activation('relu'))\n",
    "\n",
    "#5. Convolutional layer, 64 layers, kernel_size=(3,3)\n",
    "model_2.add(Conv2D(64, (3,3)))\n",
    "model_2.add(Activation('relu'))\n",
    "\n",
    "#6. maxpooling, pool_size = (2,2)\n",
    "model_2.add(MaxPooling2D(pool_size=(2,2)))\n",
    "\n",
    "#7. flatten layer\n",
    "model_2.add(Flatten())\n",
    "\n",
    "#8. dense layer (512 units)\n",
    "model_2.add(Dense(512))\n",
    "model_2.add(Activation('relu'))\n",
    "\n",
    "#9. final layer (10 units)\n",
    "model_2.add(Dense(num_classes))\n",
    "model_2.add(Activation('softmax'))"
   ]
  },
  {
   "cell_type": "code",
   "execution_count": 22,
   "metadata": {},
   "outputs": [
    {
     "name": "stdout",
     "output_type": "stream",
     "text": [
      "Model: \"sequential_3\"\n",
      "_________________________________________________________________\n",
      "Layer (type)                 Output Shape              Param #   \n",
      "=================================================================\n",
      "conv2d_4 (Conv2D)            (None, 32, 32, 32)        896       \n",
      "_________________________________________________________________\n",
      "activation_8 (Activation)    (None, 32, 32, 32)        0         \n",
      "_________________________________________________________________\n",
      "conv2d_5 (Conv2D)            (None, 30, 30, 32)        9248      \n",
      "_________________________________________________________________\n",
      "activation_9 (Activation)    (None, 30, 30, 32)        0         \n",
      "_________________________________________________________________\n",
      "max_pooling2d_2 (MaxPooling2 (None, 15, 15, 32)        0         \n",
      "_________________________________________________________________\n",
      "dropout_4 (Dropout)          (None, 15, 15, 32)        0         \n",
      "_________________________________________________________________\n",
      "conv2d_6 (Conv2D)            (None, 15, 15, 64)        18496     \n",
      "_________________________________________________________________\n",
      "activation_10 (Activation)   (None, 15, 15, 64)        0         \n",
      "_________________________________________________________________\n",
      "conv2d_7 (Conv2D)            (None, 13, 13, 64)        36928     \n",
      "_________________________________________________________________\n",
      "activation_11 (Activation)   (None, 13, 13, 64)        0         \n",
      "_________________________________________________________________\n",
      "max_pooling2d_3 (MaxPooling2 (None, 6, 6, 64)          0         \n",
      "_________________________________________________________________\n",
      "flatten_2 (Flatten)          (None, 2304)              0         \n",
      "_________________________________________________________________\n",
      "dense_4 (Dense)              (None, 512)               1180160   \n",
      "_________________________________________________________________\n",
      "activation_12 (Activation)   (None, 512)               0         \n",
      "_________________________________________________________________\n",
      "dense_5 (Dense)              (None, 10)                5130      \n",
      "_________________________________________________________________\n",
      "activation_13 (Activation)   (None, 10)                0         \n",
      "=================================================================\n",
      "Total params: 1,250,858\n",
      "Trainable params: 1,250,858\n",
      "Non-trainable params: 0\n",
      "_________________________________________________________________\n"
     ]
    }
   ],
   "source": [
    "model_2.summary()"
   ]
  },
  {
   "cell_type": "code",
   "execution_count": 25,
   "metadata": {},
   "outputs": [
    {
     "name": "stdout",
     "output_type": "stream",
     "text": [
      "Epoch 1/10\n",
      "1563/1563 [==============================] - 249s 160ms/step - loss: 1.3410 - accuracy: 0.5202 - val_loss: 1.1472 - val_accuracy: 0.5984\n",
      "Epoch 2/10\n",
      "1563/1563 [==============================] - 259s 166ms/step - loss: 0.9980 - accuracy: 0.6493 - val_loss: 1.0914 - val_accuracy: 0.6167\n",
      "Epoch 3/10\n",
      "1563/1563 [==============================] - 222s 142ms/step - loss: 0.8190 - accuracy: 0.7145 - val_loss: 0.7960 - val_accuracy: 0.7189\n",
      "Epoch 4/10\n",
      "1563/1563 [==============================] - 258s 165ms/step - loss: 0.6927 - accuracy: 0.7599 - val_loss: 0.9231 - val_accuracy: 0.7020\n",
      "Epoch 5/10\n",
      "1563/1563 [==============================] - 235s 150ms/step - loss: 0.5985 - accuracy: 0.7919 - val_loss: 0.7408 - val_accuracy: 0.7541\n",
      "Epoch 6/10\n",
      "1563/1563 [==============================] - 254s 163ms/step - loss: 0.5236 - accuracy: 0.8195 - val_loss: 0.7075 - val_accuracy: 0.7642\n",
      "Epoch 7/10\n",
      "1563/1563 [==============================] - 241s 154ms/step - loss: 0.4740 - accuracy: 0.8398 - val_loss: 0.7425 - val_accuracy: 0.7574\n",
      "Epoch 8/10\n",
      "1563/1563 [==============================] - 290s 185ms/step - loss: 0.4508 - accuracy: 0.8471 - val_loss: 0.8210 - val_accuracy: 0.7613\n",
      "Epoch 9/10\n",
      "1563/1563 [==============================] - 284s 182ms/step - loss: 0.4379 - accuracy: 0.8527 - val_loss: 0.8363 - val_accuracy: 0.7645\n",
      "Epoch 10/10\n",
      "1563/1563 [==============================] - 242s 155ms/step - loss: 0.4361 - accuracy: 0.8525 - val_loss: 0.9766 - val_accuracy: 0.7555\n"
     ]
    },
    {
     "data": {
      "text/plain": [
       "<tensorflow.python.keras.callbacks.History at 0x7fdd4ae1abe0>"
      ]
     },
     "execution_count": 25,
     "metadata": {},
     "output_type": "execute_result"
    }
   ],
   "source": [
    "opt_2 = keras.optimizers.RMSprop(lr = 0.0005)\n",
    "\n",
    "model_2.compile(loss = 'categorical_crossentropy',\n",
    "                optimizer=opt_2,\n",
    "                metrics=['accuracy'])\n",
    "\n",
    "model_2.fit(X_train, y_train, batch_size=batch_size,\n",
    "           epochs=10,\n",
    "           validation_data=(X_test, y_test),\n",
    "           shuffle=True)"
   ]
  },
  {
   "cell_type": "code",
   "execution_count": null,
   "metadata": {},
   "outputs": [],
   "source": []
  }
 ],
 "metadata": {
  "kernelspec": {
   "display_name": "Python 3",
   "language": "python",
   "name": "python3"
  },
  "language_info": {
   "codemirror_mode": {
    "name": "ipython",
    "version": 3
   },
   "file_extension": ".py",
   "mimetype": "text/x-python",
   "name": "python",
   "nbconvert_exporter": "python",
   "pygments_lexer": "ipython3",
   "version": "3.7.1"
  }
 },
 "nbformat": 4,
 "nbformat_minor": 2
}
